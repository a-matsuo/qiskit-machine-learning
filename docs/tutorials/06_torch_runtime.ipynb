{
 "cells": [
  {
   "cell_type": "markdown",
   "metadata": {},
   "source": [
    "# Torch Runtime\n",
    "\n",
    "In this tutorial, we introduce Torch Runtime, and show how to use it via the `TorchRuntimeClient` class in Qiskit Machine Learning.\n",
    "Torch Runtime leverages Qiskit Runtime for \n",
    "hybrid quantum-classical machine learning based on a PyTorch `Module`. It allows training models or predicting the outputs with trained models significantly faster. We show how to use Torch RUntime with two simple examples for regression and classification tasks in the following."
   ]
  },
  {
   "cell_type": "markdown",
   "metadata": {},
   "source": [
    "## 1. Regression\n",
    "\n",
    "First, we show how to use Torch Runtime via `TorchRuntimeClient` using the simple regression example. In the example, we will perform \n",
    "a regression task on a randomly generated dataset following a sin wave."
   ]
  },
  {
   "cell_type": "code",
   "execution_count": 1,
   "metadata": {},
   "outputs": [],
   "source": [
    "import numpy as np\n",
    "import matplotlib.pyplot as plt\n",
    "\n",
    "from torch import Tensor, manual_seed, is_tensor\n",
    "from torch.nn import Linear, CrossEntropyLoss, MSELoss\n",
    "from torch.optim import LBFGS, Adam\n",
    "from torch.utils.data import Dataset, DataLoader\n",
    "\n",
    "from qiskit  import Aer, QuantumCircuit\n",
    "from qiskit.utils import QuantumInstance, algorithm_globals\n",
    "from qiskit.opflow import AerPauliExpectation\n",
    "from qiskit.circuit import Parameter\n",
    "from qiskit.circuit.library import RealAmplitudes, ZZFeatureMap\n",
    "from qiskit_machine_learning.neural_networks import CircuitQNN, TwoLayerQNN\n",
    "from qiskit_machine_learning.connectors import TorchConnector\n",
    "from qiskit_machine_learning.runtime import TorchRuntimeClient, TorchRuntimeResult\n",
    "\n",
    "\n",
    "# Set seed for random generators\n",
    "seed = 42\n",
    "manual_seed(seed)\n",
    "algorithm_globals.random_seed = seed"
   ]
  },
  {
   "cell_type": "code",
   "execution_count": 2,
   "metadata": {},
   "outputs": [
    {
     "data": {
      "image/png": "[encoded data removed]",
      "text/plain": [
       "<Figure size 432x288 with 1 Axes>"
      ]
     },
     "metadata": {
      "needs_background": "light"
     },
     "output_type": "display_data"
    }
   ],
   "source": [
    "# Generate random dataset for the training\n",
    "import matplotlib.pyplot as plt\n",
    "\n",
    "np.random.seed(0)\n",
    "num_samples = 20\n",
    "eps = 0.2\n",
    "lb, ub = -np.pi, np.pi\n",
    "f = lambda x: np.sin(x)\n",
    "X = (ub - lb)*np.random.rand(num_samples, 1) + lb\n",
    "y = f(X) + eps*(2*np.random.rand(num_samples, 1)-1)\n",
    "\n",
    "plt.figure()\n",
    "plt.plot(np.linspace(lb, ub), f(np.linspace(lb, ub)), 'r--')\n",
    "plt.plot(X, y, 'bo')\n",
    "plt.show()\n"
   ]
  },
  {
   "cell_type": "markdown",
   "metadata": {},
   "source": [
    "`TorchRuntimeClient` requires a PyTorch `DataLoader` as an input for training/predicting. For that purpose, we create a custom torch dataset class."
   ]
  },
  {
   "cell_type": "code",
   "execution_count": 3,
   "metadata": {},
   "outputs": [],
   "source": [
    "# Create custom torch dataset class\n",
    "class TorchDataset(Dataset):\n",
    "\n",
    "    \"\"\"Map-style dataset\"\"\"\n",
    "    def __init__(self, X, y):\n",
    "        self.X = Tensor(X).float()\n",
    "        self.y = Tensor(y).float()\n",
    "\n",
    "    def __len__(self):\n",
    "        return len(self.X)\n",
    "\n",
    "    def __getitem__(self, idx):\n",
    "        import torch\n",
    "        if torch.is_tensor(idx):\n",
    "            idx = idx.tolist()\n",
    "\n",
    "        X_i = self.X[idx]\n",
    "        y_i = self.y[idx]\n",
    "\n",
    "        # important: the dataset item must be returned as data,target\n",
    "        return X_i, y_i\n",
    "\n",
    "# Create a train loader\n",
    "train_set = TorchDataset(X,y)\n",
    "train_loader1 = DataLoader(train_set, batch_size=1, shuffle=False)"
   ]
  },
  {
   "cell_type": "markdown",
   "metadata": {},
   "source": [
    "Create a PyTorch model, and set up an optimizer and a loss function as usual."
   ]
  },
  {
   "cell_type": "code",
   "execution_count": 70,
   "metadata": {},
   "outputs": [
    {
     "name": "stdout",
     "output_type": "stream",
     "text": [
      "ComposedOp([\n",
      "  OperatorMeasurement(1.0 * Z),\n",
      "  CircuitStateFn(\n",
      "     ┌───────┐┌───────┐\n",
      "  q: ┤ fm(x) ├┤ vf(y) ├\n",
      "     └───────┘└───────┘\n",
      "  )\n",
      "])\n"
     ]
    }
   ],
   "source": [
    "from qiskit.circuit import Parameter\n",
    "\n",
    "# Construct simple feature map\n",
    "param_x = Parameter('x')\n",
    "feature_map = QuantumCircuit(1, name='fm')\n",
    "feature_map.ry(param_x, 0)\n",
    "\n",
    "# Construct simple feature map\n",
    "param_y = Parameter('y')\n",
    "ansatz = QuantumCircuit(1, name='vf')\n",
    "ansatz.ry(param_y, 0)\n",
    "\n",
    "# Construct QNN\n",
    "qnn1 = TwoLayerQNN(1, feature_map, ansatz)\n",
    "print(qnn1.operator)\n",
    "\n",
    "\n",
    "initial_weights = 0.1*(2*algorithm_globals.random.random(qnn1.num_weights) - 1)\n",
    "model1 = TorchConnector(qnn1, initial_weights)\n",
    "\n",
    "# Define optimizer and loss function\n",
    "optimizer1 = Adam(model1.parameters(), lr=0.1) \n",
    "loss_func1 = MSELoss(reduction='sum')"
   ]
  },
  {
   "cell_type": "markdown",
   "metadata": {},
   "source": [
    "Load a provider and specify a backend for the runtime service. "
   ]
  },
  {
   "cell_type": "code",
   "execution_count": 71,
   "metadata": {},
   "outputs": [
    {
     "name": "stderr",
     "output_type": "stream",
     "text": [
      "ibmqfactory.load_account:WARNING:2021-11-23 17:58:02,876: Credentials are already in use. The existing account in the session will be replaced.\n"
     ]
    }
   ],
   "source": [
    "# Set up a provider and backend\n",
    "from qiskit import IBMQ\n",
    "IBMQ.load_account()\n",
    "\n",
    "provider = IBMQ.get_provider(project='default') \n",
    "backend = provider.get_backend('ibmq_qasm_simulator')"
   ]
  },
  {
   "cell_type": "markdown",
   "metadata": {},
   "source": [
    "Create a Torch Runtime Client instance with the model, the optimizer, and other configurations."
   ]
  },
  {
   "cell_type": "code",
   "execution_count": 72,
   "metadata": {},
   "outputs": [],
   "source": [
    "torch_runtime_client = TorchRuntimeClient(\n",
    "                                        provider=provider,\n",
    "                                        model=model1,\n",
    "                                        optimizer=optimizer1,\n",
    "                                        loss_func=loss_func1,\n",
    "                                        epochs=5,\n",
    "                                        backend=backend,\n",
    "                                    )"
   ]
  },
  {
   "cell_type": "markdown",
   "metadata": {},
   "source": [
    "### `fit()` to train the model\n",
    "Call `fit` method in `TorchRuntimeClient` with the data loader to train the model."
   ]
  },
  {
   "cell_type": "code",
   "execution_count": 73,
   "metadata": {},
   "outputs": [],
   "source": [
    "fit_result = torch_runtime_client.fit(train_loader = train_loader1)"
   ]
  },
  {
   "cell_type": "markdown",
   "metadata": {},
   "source": [
    "----------------\n",
    "Following cells are added temporarily since we can not have the real torch runtime in the server-side yet."
   ]
  },
  {
   "cell_type": "code",
   "execution_count": 74,
   "metadata": {},
   "outputs": [
    {
     "name": "stdout",
     "output_type": "stream",
     "text": [
      "The autoreload extension is already loaded. To reload it, use:\n",
      "  %reload_ext autoreload\n"
     ]
    }
   ],
   "source": [
    "%load_ext autoreload\n",
    "%autoreload 2"
   ]
  },
  {
   "cell_type": "code",
   "execution_count": 75,
   "metadata": {},
   "outputs": [
    {
     "name": "stdout",
     "output_type": "stream",
     "text": [
      "/usr/local/lib/python3.8/site-packages/qiskit/opflow/primitive_ops/pauli_sum_op.py:316: DeprecationWarning: The SparsePauliOp.table method is deprecated as of Qiskit Terra 0.19.0 and will be removed no sooner than 3 months after the releasedate. Use SparsePauliOp.paulis method instead.\n",
      "  corrected_x_bits = self.primitive.table.X[::, ::-1]\n",
      "{\"epoch\": 0, \"training loss\": 0.6519502907991409, \"validation loss\": null, \"average forward pass time\": 0.0082527756690979, \"average backward pass time\": 0.09519320726394653, \"epoch_time\": 2.0871570110321045}\n",
      "{\"epoch\": 1, \"training loss\": 0.02747313145573571, \"validation loss\": null, \"average forward pass time\": 0.00427790880203247, \"average backward pass time\": 0.08873833417892456, \"epoch_time\": 1.8773951530456543}\n",
      "{\"epoch\": 2, \"training loss\": 0.02125945960287936, \"validation loss\": null, \"average forward pass time\": 0.004361844062805176, \"average backward pass time\": 0.09340013265609741, \"epoch_time\": 1.9725890159606934}\n",
      "{\"epoch\": 3, \"training loss\": 0.015183753519340825, \"validation loss\": null, \"average forward pass time\": 0.004219210147857666, \"average backward pass time\": 0.08989952802658081, \"epoch_time\": 1.8993396759033203}\n",
      "{\"epoch\": 4, \"training loss\": 0.011877931842082034, \"validation loss\": null, \"average forward pass time\": 0.00418473482131958, \"average backward pass time\": 0.08885995149612427, \"epoch_time\": 1.877316951751709}\n",
      "{\"model_state_dict\": \"gASV5QIAAAAAAACMC2NvbGxlY3Rpb25zlIwLT3JkZXJlZERpY3SUk5QpUpQojAZ3ZWlnaHSUjAx0b3JjaC5fdXRpbHOUjBJfcmVidWlsZF90ZW5zb3JfdjKUk5QojA10b3JjaC5zdG9yYWdllIwQX2xvYWRfZnJvbV9ieXRlc5STlEP/gAKKCmz8nEb5IGqoUBkugAJN6QMugAJ9cQAoWBAAAABwcm90b2NvbF92ZXJzaW9ucQFN6QNYDQAAAGxpdHRsZV9lbmRpYW5xAohYCgAAAHR5cGVfc2l6ZXNxA31xBChYBQAAAHNob3J0cQVLAlgDAAAAaW50cQZLBFgEAAAAbG9uZ3EHSwR1dS6AAihYBwAAAHN0b3JhZ2VxAGN0b3JjaApGbG9hdFN0b3JhZ2UKcQFYDgAAADk0MjIxMTY0MDcyNTI4cQJYAwAAAGNwdXEDSwFOdHEEUS6AAl1xAFgOAAAAOTQyMjExNjQwNzI1MjhxAWEuAQAAAAAAAADH48e/lIWUUpRLAEsBhZRLAYWUiWgCKVKUdJRSlIwIX3dlaWdodHOUaAcoaApD/4ACigps/JxG+SBqqFAZLoACTekDLoACfXEAKFgQAAAAcHJvdG9jb2xfdmVyc2lvbnEBTekDWA0AAABsaXR0bGVfZW5kaWFucQKIWAoAAAB0eXBlX3NpemVzcQN9cQQoWAUAAABzaG9ydHEFSwJYAwAAAGludHEGSwRYBAAAAGxvbmdxB0sEdXUugAIoWAcAAABzdG9yYWdlcQBjdG9yY2gKRmxvYXRTdG9yYWdlCnEBWA4AAAA5NDIyMTE2NDA3MjUyOHECWAMAAABjcHVxA0sBTnRxBFEugAJdcQBYDgAAADk0MjIxMTY0MDcyNTI4cQFhLgEAAAAAAAAAx+PHv5SFlFKUSwBLAYWUSwGFlIloAilSlHSUUpR1fZSMCV9tZXRhZGF0YZRoAilSlIwAlH2UjAd2ZXJzaW9ulEsBc3NzYi4=\", \"train_history\": {\"train\": [{\"epoch\": 0, \"loss\": 0.6519502907991409, \"forward_time\": 0.0082527756690979, \"backward_time\": 0.09519320726394653, \"epoch_time\": 2.0871570110321045}, {\"epoch\": 1, \"loss\": 0.02747313145573571, \"forward_time\": 0.00427790880203247, \"backward_time\": 0.08873833417892456, \"epoch_time\": 1.8773951530456543}, {\"epoch\": 2, \"loss\": 0.02125945960287936, \"forward_time\": 0.004361844062805176, \"backward_time\": 0.09340013265609741, \"epoch_time\": 1.9725890159606934}, {\"epoch\": 3, \"loss\": 0.015183753519340825, \"forward_time\": 0.004219210147857666, \"backward_time\": 0.08989952802658081, \"epoch_time\": 1.8993396759033203}, {\"epoch\": 4, \"loss\": 0.011877931842082034, \"forward_time\": 0.00418473482131958, \"backward_time\": 0.08885995149612427, \"epoch_time\": 1.877316951751709}], \"validation\": []}, \"execution_time\": 9.714454650878906}\n"
     ]
    }
   ],
   "source": [
    "!docker cp ../src/torch_train.py da1e5b452975:/runtime/program.py\n",
    "!docker cp ./params.json da1e5b452975:/runtime/params.json\n",
    "!docker exec da1e5b452975 /runtime/program_starter.py"
   ]
  },
  {
   "cell_type": "code",
   "execution_count": 11,
   "metadata": {},
   "outputs": [],
   "source": [
    "from qiskit_machine_learning.runtime import str_to_obj\n",
    "\n",
    "result_ = {\"model_state_dict\": \"gASV5QIAAAAAAACMC2NvbGxlY3Rpb25zlIwLT3JkZXJlZERpY3SUk5QpUpQojAZ3ZWlnaHSUjAx0b3JjaC5fdXRpbHOUjBJfcmVidWlsZF90ZW5zb3JfdjKUk5QojA10b3JjaC5zdG9yYWdllIwQX2xvYWRfZnJvbV9ieXRlc5STlEP/gAKKCmz8nEb5IGqoUBkugAJN6QMugAJ9cQAoWBAAAABwcm90b2NvbF92ZXJzaW9ucQFN6QNYDQAAAGxpdHRsZV9lbmRpYW5xAohYCgAAAHR5cGVfc2l6ZXNxA31xBChYBQAAAHNob3J0cQVLAlgDAAAAaW50cQZLBFgEAAAAbG9uZ3EHSwR1dS6AAihYBwAAAHN0b3JhZ2VxAGN0b3JjaApGbG9hdFN0b3JhZ2UKcQFYDgAAADkzOTE4MjMwMDY4MTkycQJYAwAAAGNwdXEDSwFOdHEEUS6AAl1xAFgOAAAAOTM5MTgyMzAwNjgxOTJxAWEuAQAAAAAAAAC5mci/lIWUUpRLAEsBhZRLAYWUiWgCKVKUdJRSlIwIX3dlaWdodHOUaAcoaApD/4ACigps/JxG+SBqqFAZLoACTekDLoACfXEAKFgQAAAAcHJvdG9jb2xfdmVyc2lvbnEBTekDWA0AAABsaXR0bGVfZW5kaWFucQKIWAoAAAB0eXBlX3NpemVzcQN9cQQoWAUAAABzaG9ydHEFSwJYAwAAAGludHEGSwRYBAAAAGxvbmdxB0sEdXUugAIoWAcAAABzdG9yYWdlcQBjdG9yY2gKRmxvYXRTdG9yYWdlCnEBWA4AAAA5MzkxODIzMDA2ODE5MnECWAMAAABjcHVxA0sBTnRxBFEugAJdcQBYDgAAADkzOTE4MjMwMDY4MTkycQFhLgEAAAAAAAAAuZnIv5SFlFKUSwBLAYWUSwGFlIloAilSlHSUUpR1fZSMCV9tZXRhZGF0YZRoAilSlIwAlH2UjAd2ZXJzaW9ulEsBc3NzYi4=\", \"train_history\": {\"train\": [{\"epoch\": 0, \"loss\": 0.6287885455414652, \"forward_time\": 0.007128441333770752, \"backward_time\": 0.07493594884872437, \"epoch_time\": 1.6558871269226074}, {\"epoch\": 1, \"loss\": 0.03379448799387319, \"forward_time\": 0.003424859046936035, \"backward_time\": 0.07277388572692871, \"epoch_time\": 1.5375840663909912}, {\"epoch\": 2, \"loss\": 0.01828708676819133, \"forward_time\": 0.00335996150970459, \"backward_time\": 0.0689307451248169, \"epoch_time\": 1.4592063426971436}, {\"epoch\": 3, \"loss\": 0.012518359369278188, \"forward_time\": 0.0033134341239929197, \"backward_time\": 0.06696546077728271, \"epoch_time\": 1.418945550918579}, {\"epoch\": 4, \"loss\": 0.013881158554022477, \"forward_time\": 0.003410661220550537, \"backward_time\": 0.0689520001411438, \"epoch_time\": 1.4610049724578857}], \"validation\": []}, \"execution_time\": 7.533513307571411}\n",
    "\n",
    "torch_runtime_client._model.load_state_dict(str_to_obj(result_[\"model_state_dict\"]))\n",
    "\n",
    "fit_result = TorchRuntimeResult()\n",
    "fit_result.job_id = 12345\n",
    "fit_result.train_history = result_[\"train_history\"][\"train\"]\n",
    "fit_result.execution_time = result_[\"execution_time\"]\n",
    "fit_result.model_state_dict = str_to_obj(result_[\"model_state_dict\"])"
   ]
  },
  {
   "cell_type": "markdown",
   "metadata": {},
   "source": [
    "-------------------"
   ]
  },
  {
   "cell_type": "markdown",
   "metadata": {},
   "source": [
    "You can access the information about the training result via `TorchRuntimeResult` class. Also, model's parameters in `TorchRuntimeClient` are updated with trained ones. "
   ]
  },
  {
   "cell_type": "code",
   "execution_count": 12,
   "metadata": {},
   "outputs": [
    {
     "name": "stdout",
     "output_type": "stream",
     "text": [
      "id:  12345\n",
      "execution time:  7.533513307571411\n",
      "train history:  [{'epoch': 0, 'loss': 0.6287885455414652, 'forward_time': 0.007128441333770752, 'backward_time': 0.07493594884872437, 'epoch_time': 1.6558871269226074}, {'epoch': 1, 'loss': 0.03379448799387319, 'forward_time': 0.003424859046936035, 'backward_time': 0.07277388572692871, 'epoch_time': 1.5375840663909912}, {'epoch': 2, 'loss': 0.01828708676819133, 'forward_time': 0.00335996150970459, 'backward_time': 0.0689307451248169, 'epoch_time': 1.4592063426971436}, {'epoch': 3, 'loss': 0.012518359369278188, 'forward_time': 0.0033134341239929197, 'backward_time': 0.06696546077728271, 'epoch_time': 1.418945550918579}, {'epoch': 4, 'loss': 0.013881158554022477, 'forward_time': 0.003410661220550537, 'backward_time': 0.0689520001411438, 'epoch_time': 1.4610049724578857}]\n",
      "model_state_dict:  OrderedDict([('weight', tensor([-1.5672])), ('_weights', tensor([-1.5672]))])\n"
     ]
    }
   ],
   "source": [
    "print('id: ', fit_result.job_id)\n",
    "print('execution time: ', fit_result.execution_time)\n",
    "print('train history: ', fit_result.train_history)\n",
    "print('model_state_dict: ', torch_runtime_client.model.state_dict())\n"
   ]
  },
  {
   "cell_type": "markdown",
   "metadata": {},
   "source": [
    "#### Training with validation\n",
    "Torch Runtime can also perform the validation while training a model by passing a validation data loader to `fit` method."
   ]
  },
  {
   "cell_type": "code",
   "execution_count": 15,
   "metadata": {},
   "outputs": [],
   "source": [
    "# Create a validation dataloader\n",
    "X_test = [[x] for x in np.linspace(lb, ub)]\n",
    "y_test = [[y] for y in f(np.linspace(lb, ub))]\n",
    "test_set = TorchDataset(X_test, y_test)\n",
    "test_loader = DataLoader(test_set, batch_size=1, shuffle=False)"
   ]
  },
  {
   "cell_type": "code",
   "execution_count": 16,
   "metadata": {},
   "outputs": [],
   "source": [
    "torch_runtime_client = TorchRuntimeClient(\n",
    "                                        provider=provider,\n",
    "                                        model=model1,\n",
    "                                        optimizer=optimizer1,\n",
    "                                        loss_func=loss_func1,\n",
    "                                        epochs=5,\n",
    "                                        backend=backend,\n",
    "                                    )"
   ]
  },
  {
   "cell_type": "code",
   "execution_count": 18,
   "metadata": {},
   "outputs": [],
   "source": [
    "# Pass a train data loader and a validation data loader\n",
    "fit_result = torch_runtime_client.fit(train_loader = train_loader1, val_loader=test_loader)"
   ]
  },
  {
   "cell_type": "markdown",
   "metadata": {},
   "source": [
    "-------"
   ]
  },
  {
   "cell_type": "code",
   "execution_count": 19,
   "metadata": {},
   "outputs": [],
   "source": [
    "result_ = {\"model_state_dict\": \"gASV5QIAAAAAAACMC2NvbGxlY3Rpb25zlIwLT3JkZXJlZERpY3SUk5QpUpQojAZ3ZWlnaHSUjAx0b3JjaC5fdXRpbHOUjBJfcmVidWlsZF90ZW5zb3JfdjKUk5QojA10b3JjaC5zdG9yYWdllIwQX2xvYWRfZnJvbV9ieXRlc5STlEP/gAKKCmz8nEb5IGqoUBkugAJN6QMugAJ9cQAoWBAAAABwcm90b2NvbF92ZXJzaW9ucQFN6QNYDQAAAGxpdHRsZV9lbmRpYW5xAohYCgAAAHR5cGVfc2l6ZXNxA31xBChYBQAAAHNob3J0cQVLAlgDAAAAaW50cQZLBFgEAAAAbG9uZ3EHSwR1dS6AAihYBwAAAHN0b3JhZ2VxAGN0b3JjaApGbG9hdFN0b3JhZ2UKcQFYDgAAADk0NzkxMzQwNjQ2MTQ0cQJYAwAAAGNwdXEDSwFOdHEEUS6AAl1xAFgOAAAAOTQ3OTEzNDA2NDYxNDRxAWEuAQAAAAAAAABJiMi/lIWUUpRLAEsBhZRLAYWUiWgCKVKUdJRSlIwIX3dlaWdodHOUaAcoaApD/4ACigps/JxG+SBqqFAZLoACTekDLoACfXEAKFgQAAAAcHJvdG9jb2xfdmVyc2lvbnEBTekDWA0AAABsaXR0bGVfZW5kaWFucQKIWAoAAAB0eXBlX3NpemVzcQN9cQQoWAUAAABzaG9ydHEFSwJYAwAAAGludHEGSwRYBAAAAGxvbmdxB0sEdXUugAIoWAcAAABzdG9yYWdlcQBjdG9yY2gKRmxvYXRTdG9yYWdlCnEBWA4AAAA5NDc5MTM0MDY0NjE0NHECWAMAAABjcHVxA0sBTnRxBFEugAJdcQBYDgAAADk0NzkxMzQwNjQ2MTQ0cQFhLgEAAAAAAAAASYjIv5SFlFKUSwBLAYWUSwGFlIloAilSlHSUUpR1fZSMCV9tZXRhZGF0YZRoAilSlIwAlH2UjAd2ZXJzaW9ulEsBc3NzYi4=\", \"train_history\": {\"train\": [{\"epoch\": 0, \"loss\": 0.600094748660922, \"forward_time\": 0.007148647308349609, \"backward_time\": 0.07085573673248291, \"epoch_time\": 1.57456374168396}, {\"epoch\": 1, \"loss\": 0.030057143244448525, \"forward_time\": 0.0016440868377685547, \"backward_time\": 0.0693540096282959, \"epoch_time\": 1.4341495037078857}, {\"epoch\": 2, \"loss\": 0.02533961619716365, \"forward_time\": 0.0033911705017089845, \"backward_time\": 0.06918885707855224, \"epoch_time\": 1.4652225971221924}, {\"epoch\": 3, \"loss\": 0.013602298773093935, \"forward_time\": 0.003237760066986084, \"backward_time\": 0.06664506196975709, \"epoch_time\": 1.4105041027069092}, {\"epoch\": 4, \"loss\": 0.015099877770990134, \"forward_time\": 0.0032798171043395994, \"backward_time\": 0.06813886165618896, \"epoch_time\": 1.4413228034973145}], \"validation\": [{\"epoch\": 0, \"loss\": 0.046238261605631124, \"forward_time\": 0.002290487289428711, \"backward_time\": 0, \"epoch_time\": 0.002290487289428711}, {\"epoch\": 1, \"loss\": 0.02404542155436502, \"forward_time\": 0.0024220943450927734, \"backward_time\": 0, \"epoch_time\": 0.0024220943450927734}, {\"epoch\": 2, \"loss\": 0.002134242930741266, \"forward_time\": 0.0024492740631103516, \"backward_time\": 0, \"epoch_time\": 0.0024492740631103516}, {\"epoch\": 3, \"loss\": 0.0008236507183167419, \"forward_time\": 0.002490520477294922, \"backward_time\": 0, \"epoch_time\": 0.002490520477294922}, {\"epoch\": 4, \"loss\": 0.0006055122900423271, \"forward_time\": 0.0023369789123535156, \"backward_time\": 0, \"epoch_time\": 0.0023369789123535156}]}, \"execution_time\": 7.9897003173828125}\n",
    "\n",
    "torch_runtime_client._model.load_state_dict(str_to_obj(result_[\"model_state_dict\"]))\n",
    "\n",
    "fit_result  = TorchRuntimeResult()\n",
    "fit_result.job_id = 12345\n",
    "fit_result.train_history = result_[\"train_history\"][\"train\"]\n",
    "fit_result.val_history = result_[\"train_history\"][\"validation\"]\n",
    "fit_result.execution_time = result_[\"execution_time\"]\n",
    "fit_result.model_state_dict = str_to_obj(result_[\"model_state_dict\"])"
   ]
  },
  {
   "cell_type": "markdown",
   "metadata": {},
   "source": [
    "-------"
   ]
  },
  {
   "cell_type": "code",
   "execution_count": 20,
   "metadata": {},
   "outputs": [
    {
     "name": "stdout",
     "output_type": "stream",
     "text": [
      "id:  12345\n",
      "execution time:  7.9897003173828125\n",
      "train history:  [{'epoch': 0, 'loss': 0.600094748660922, 'forward_time': 0.007148647308349609, 'backward_time': 0.07085573673248291, 'epoch_time': 1.57456374168396}, {'epoch': 1, 'loss': 0.030057143244448525, 'forward_time': 0.0016440868377685547, 'backward_time': 0.0693540096282959, 'epoch_time': 1.4341495037078857}, {'epoch': 2, 'loss': 0.02533961619716365, 'forward_time': 0.0033911705017089845, 'backward_time': 0.06918885707855224, 'epoch_time': 1.4652225971221924}, {'epoch': 3, 'loss': 0.013602298773093935, 'forward_time': 0.003237760066986084, 'backward_time': 0.06664506196975709, 'epoch_time': 1.4105041027069092}, {'epoch': 4, 'loss': 0.015099877770990134, 'forward_time': 0.0032798171043395994, 'backward_time': 0.06813886165618896, 'epoch_time': 1.4413228034973145}]\n",
      "validation history:  [{'epoch': 0, 'loss': 0.046238261605631124, 'forward_time': 0.002290487289428711, 'backward_time': 0, 'epoch_time': 0.002290487289428711}, {'epoch': 1, 'loss': 0.02404542155436502, 'forward_time': 0.0024220943450927734, 'backward_time': 0, 'epoch_time': 0.0024220943450927734}, {'epoch': 2, 'loss': 0.002134242930741266, 'forward_time': 0.0024492740631103516, 'backward_time': 0, 'epoch_time': 0.0024492740631103516}, {'epoch': 3, 'loss': 0.0008236507183167419, 'forward_time': 0.002490520477294922, 'backward_time': 0, 'epoch_time': 0.002490520477294922}, {'epoch': 4, 'loss': 0.0006055122900423271, 'forward_time': 0.0023369789123535156, 'backward_time': 0, 'epoch_time': 0.0023369789123535156}]\n"
     ]
    }
   ],
   "source": [
    "print('id: ', fit_result.job_id)\n",
    "print('execution time: ', fit_result.execution_time)\n",
    "print('train history: ', fit_result.train_history)\n",
    "print('validation history: ', fit_result.val_history)"
   ]
  },
  {
   "cell_type": "markdown",
   "metadata": {},
   "source": [
    "### `predict()` to perform prediction\n",
    "Call `predict` method in `TorchRuntimeClient` with the data loader to perform prediction on the passed data using the trained model."
   ]
  },
  {
   "cell_type": "code",
   "execution_count": 21,
   "metadata": {},
   "outputs": [],
   "source": [
    "predict_result = torch_runtime_client.predict(data_loader = test_loader)"
   ]
  },
  {
   "cell_type": "markdown",
   "metadata": {},
   "source": [
    "---------"
   ]
  },
  {
   "cell_type": "code",
   "execution_count": 22,
   "metadata": {},
   "outputs": [],
   "source": [
    "result_ = {\"prediction\": [[[-0.041015625]], [[-0.111328125]], [[-0.26953125]], [[-0.40234375]], [[-0.482421875]], [[-0.623046875]], [[-0.71875]], [[-0.783203125]], [[-0.83984375]], [[-0.9296875]], [[-0.966796875]], [[-0.986328125]], [[-0.998046875]], [[-0.99609375]], [[-0.9765625]], [[-0.94140625]], [[-0.89453125]], [[-0.798828125]], [[-0.708984375]], [[-0.68359375]], [[-0.533203125]], [[-0.419921875]], [[-0.263671875]], [[-0.2109375]], [[-0.09375]], [[0.0859375]], [[0.162109375]], [[0.31640625]], [[0.484375]], [[0.54296875]], [[0.669921875]], [[0.736328125]], [[0.828125]], [[0.890625]], [[0.94140625]], [[0.984375]], [[0.998046875]], [[0.99609375]], [[0.994140625]], [[0.958984375]], [[0.912109375]], [[0.845703125]], [[0.759765625]], [[0.681640625]], [[0.599609375]], [[0.474609375]], [[0.36328125]], [[0.2890625]], [[0.171875]], [[0.0234375]]], \"execution_time\": 0.2320547103881836}\n",
    "\n",
    "predict_result = TorchRuntimeResult()\n",
    "predict_result.job_id = 123\n",
    "predict_result.prediction = Tensor(result_[\"prediction\"])\n",
    "predict_result.execution_time = result_[\"execution_time\"]"
   ]
  },
  {
   "cell_type": "markdown",
   "metadata": {},
   "source": [
    "---------"
   ]
  },
  {
   "cell_type": "code",
   "execution_count": 23,
   "metadata": {},
   "outputs": [
    {
     "name": "stdout",
     "output_type": "stream",
     "text": [
      "id:  123\n",
      "execution time:  0.2320547103881836\n"
     ]
    }
   ],
   "source": [
    "print('id: ', predict_result.job_id)\n",
    "print('execution time: ', predict_result.execution_time)"
   ]
  },
  {
   "cell_type": "code",
   "execution_count": 38,
   "metadata": {},
   "outputs": [
    {
     "data": {
      "image/png": "[encoded data removed]",
      "text/plain": [
       "<Figure size 432x288 with 1 Axes>"
      ]
     },
     "metadata": {
      "needs_background": "light"
     },
     "output_type": "display_data"
    }
   ],
   "source": [
    "# Plot target function\n",
    "plt.plot(np.linspace(lb, ub), f(np.linspace(lb, ub)), 'r--')\n",
    "\n",
    "# Plot data\n",
    "plt.plot(X, y, 'bo')\n",
    "# # Plot fitted line\n",
    "y_ = []\n",
    "for output in predict_result.prediction:\n",
    "    y_.append(output.item())\n",
    "plt.plot(X_test, y_, 'g-')\n",
    "\n",
    "plt.show()"
   ]
  },
  {
   "cell_type": "markdown",
   "metadata": {},
   "source": [
    "### `score()` to calculate a score\n",
    "Call `score` method in `TorchRuntimeClient` with the data loader to calculate a score \n",
    "for the trained model. You can pass `\"regression\"` and `\"classification\"` to `score_func` argument for the pre-defined score functions. Alos, you can pass a custom scoring function defined as: \n",
    "```\n",
    "def score_func(model_output, target): -> score: float\n",
    "```\n",
    "\n",
    "Note that the result of `score` also contain the prediction result that was calculated in the process of calculating the score."
   ]
  },
  {
   "cell_type": "code",
   "execution_count": 39,
   "metadata": {},
   "outputs": [],
   "source": [
    "score_result = torch_runtime_client.score(data_loader = test_loader, score_func = \"regression\")"
   ]
  },
  {
   "cell_type": "markdown",
   "metadata": {},
   "source": [
    "------"
   ]
  },
  {
   "cell_type": "code",
   "execution_count": 40,
   "metadata": {},
   "outputs": [],
   "source": [
    "result_ = {\"score\": 0.0006100250769480908, \"prediction\": [[[-0.0078125]], [[-0.134765625]], [[-0.32421875]], [[-0.373046875]], [[-0.4921875]], [[-0.59765625]], [[-0.736328125]], [[-0.814453125]], [[-0.849609375]], [[-0.927734375]], [[-0.962890625]], [[-0.9921875]], [[-1.0]], [[-0.98828125]], [[-0.970703125]], [[-0.953125]], [[-0.865234375]], [[-0.7890625]], [[-0.69921875]], [[-0.61328125]], [[-0.5625]], [[-0.4765625]], [[-0.345703125]], [[-0.185546875]], [[-0.03515625]], [[0.083984375]], [[0.236328125]], [[0.32421875]], [[0.42578125]], [[0.56640625]], [[0.662109375]], [[0.775390625]], [[0.8125]], [[0.884765625]], [[0.947265625]], [[0.970703125]], [[0.99609375]], [[0.99609375]], [[0.986328125]], [[0.9609375]], [[0.90625]], [[0.841796875]], [[0.794921875]], [[0.708984375]], [[0.59765625]], [[0.4296875]], [[0.427734375]], [[0.27734375]], [[0.099609375]], [[0.029296875]]], \"execution_time\": 0.31411170959472656}"
   ]
  },
  {
   "cell_type": "code",
   "execution_count": 41,
   "metadata": {},
   "outputs": [],
   "source": [
    "score_result = TorchRuntimeResult()\n",
    "score_result.job_id = 123\n",
    "score_result.prediction = Tensor(result_[\"prediction\"])\n",
    "score_result.score = result_[\"score\"]\n",
    "score_result.execution_time = result_[\"execution_time\"]"
   ]
  },
  {
   "cell_type": "markdown",
   "metadata": {},
   "source": [
    "-------"
   ]
  },
  {
   "cell_type": "code",
   "execution_count": 42,
   "metadata": {},
   "outputs": [
    {
     "name": "stdout",
     "output_type": "stream",
     "text": [
      "id:  123\n",
      "execution time:  0.31411170959472656\n",
      "score:  0.0006100250769480908\n"
     ]
    }
   ],
   "source": [
    "print('id: ', score_result.job_id)\n",
    "print('execution time: ', score_result.execution_time)\n",
    "print('score: ', score_result.score)\n",
    "\n"
   ]
  },
  {
   "cell_type": "markdown",
   "metadata": {},
   "source": [
    "## 2. Classification\n",
    "\n",
    "Second, we show how to perform a simple classification task using Torch Runtime. In the example, we will perform binary classification on a randomly generated dataset."
   ]
  },
  {
   "cell_type": "code",
   "execution_count": 43,
   "metadata": {},
   "outputs": [
    {
     "data": {
      "image/png": "[encoded data removed]",
      "text/plain": [
       "<Figure size 432x288 with 1 Axes>"
      ]
     },
     "metadata": {
      "needs_background": "light"
     },
     "output_type": "display_data"
    }
   ],
   "source": [
    "# Generate random dataset\n",
    "\n",
    "# Select dataset dimension (num_inputs) and size (num_samples)\n",
    "num_inputs = 2\n",
    "num_samples = 20\n",
    "\n",
    "# Generate random input coordinates (X) and binary labels (y)\n",
    "X = 2*algorithm_globals.random.random([num_samples, num_inputs]) - 1\n",
    "y01 = 1*(np.sum(X, axis=1) >= 0)  # in { 0,  1}, y01 will be used for CircuitQNN example\n",
    "y = 2*y01-1                       # in {-1, +1}, y will be used for OplowQNN example\n",
    "\n",
    "# Convert to torch Tensors\n",
    "X_ = Tensor(X)\n",
    "y01_ = Tensor(y01).reshape(len(y)).long()\n",
    "y_ = Tensor(y).reshape(len(y), 1)\n",
    "\n",
    "# Plot dataset\n",
    "for x, y_target in zip(X, y):\n",
    "    if y_target == 1:\n",
    "        plt.plot(x[0], x[1], 'bo')\n",
    "    else:\n",
    "        plt.plot(x[0], x[1], 'go')\n",
    "plt.plot([-1, 1], [1, -1], '--', color='black')\n",
    "plt.show()"
   ]
  },
  {
   "cell_type": "code",
   "execution_count": 44,
   "metadata": {},
   "outputs": [],
   "source": [
    "# Create custom torch dataset class\n",
    "class TorchDataset(Dataset):\n",
    "\n",
    "    \"\"\"Map-style dataset\"\"\"\n",
    "    def __init__(self, X, y):\n",
    "        self.X = Tensor(X)\n",
    "        self.y = Tensor(y)\n",
    "\n",
    "    def __len__(self):\n",
    "        return len(self.X)\n",
    "\n",
    "    def __getitem__(self, idx):\n",
    "        import torch\n",
    "        if torch.is_tensor(idx):\n",
    "            idx = idx.tolist()\n",
    "\n",
    "        X_i = self.X[idx]\n",
    "        y_i = self.y[idx]\n",
    "\n",
    "        # important: the dataset item must be returned as data,target\n",
    "        return X_i, y_i"
   ]
  },
  {
   "cell_type": "code",
   "execution_count": 45,
   "metadata": {},
   "outputs": [],
   "source": [
    "y = y.reshape(20,1)\n",
    "train_set = TorchDataset(X,y)\n",
    "train_loader = DataLoader(train_set, batch_size=1, shuffle=False)"
   ]
  },
  {
   "cell_type": "code",
   "execution_count": 46,
   "metadata": {},
   "outputs": [
    {
     "name": "stdout",
     "output_type": "stream",
     "text": [
      "ComposedOp([\n",
      "  OperatorMeasurement(1.0 * ZZ),\n",
      "  CircuitStateFn(\n",
      "       ┌──────────────────────────┐»\n",
      "  q_0: ┤0                         ├»\n",
      "       │  ZZFeatureMap(x[0],x[1]) │»\n",
      "  q_1: ┤1                         ├»\n",
      "       └──────────────────────────┘»\n",
      "  «     ┌──────────────────────────────────────────────────────────┐\n",
      "  «q_0: ┤0                                                         ├\n",
      "  «     │  RealAmplitudes(θ[0],θ[1],θ[2],θ[3],θ[4],θ[5],θ[6],θ[7]) │\n",
      "  «q_1: ┤1                                                         ├\n",
      "  «     └──────────────────────────────────────────────────────────┘\n",
      "  )\n",
      "])\n",
      "Initial weights:  [ 0.04005302 -0.03752667  0.06645196  0.06095287 -0.02250432 -0.04233438\n",
      "  0.0364991  -0.0720495 ]\n"
     ]
    }
   ],
   "source": [
    "# Set up QNN\n",
    "qnn = TwoLayerQNN(num_qubits=num_inputs)\n",
    "print(qnn.operator)\n",
    "\n",
    "# Set up PyTorch module\n",
    "initial_weights = 0.1*(2*algorithm_globals.random.random(qnn.num_weights) - 1)\n",
    "model = TorchConnector(qnn, initial_weights=initial_weights)\n",
    "print(\"Initial weights: \", initial_weights)"
   ]
  },
  {
   "cell_type": "code",
   "execution_count": 47,
   "metadata": {},
   "outputs": [],
   "source": [
    "# Define optimizer and loss\n",
    "optimizer = Adam(model.parameters(), lr=0.1) \n",
    "loss_func = MSELoss(reduction='sum')"
   ]
  },
  {
   "cell_type": "code",
   "execution_count": 48,
   "metadata": {},
   "outputs": [],
   "source": [
    "torch_runtime_client = TorchRuntimeClient(\n",
    "                                        provider=provider,\n",
    "                                        model=model,\n",
    "                                        optimizer=optimizer,\n",
    "                                        loss_func=loss_func,\n",
    "                                        epochs=5,\n",
    "                                        backend=backend,\n",
    "                                        )"
   ]
  },
  {
   "cell_type": "markdown",
   "metadata": {},
   "source": [
    "### `fit()` to train the model"
   ]
  },
  {
   "cell_type": "code",
   "execution_count": 49,
   "metadata": {},
   "outputs": [],
   "source": [
    "train_result = torch_runtime_client.fit(train_loader = train_loader, seed=42)"
   ]
  },
  {
   "cell_type": "markdown",
   "metadata": {},
   "source": [
    "---"
   ]
  },
  {
   "cell_type": "code",
   "execution_count": 50,
   "metadata": {},
   "outputs": [],
   "source": [
    "result_ = {\"model_state_dict\": \"gASVIwMAAAAAAACMC2NvbGxlY3Rpb25zlIwLT3JkZXJlZERpY3SUk5QpUpQojAZ3ZWlnaHSUjAx0b3JjaC5fdXRpbHOUjBJfcmVidWlsZF90ZW5zb3JfdjKUk5QojA10b3JjaC5zdG9yYWdllIwQX2xvYWRfZnJvbV9ieXRlc5STlEIbAQAAgAKKCmz8nEb5IGqoUBkugAJN6QMugAJ9cQAoWBAAAABwcm90b2NvbF92ZXJzaW9ucQFN6QNYDQAAAGxpdHRsZV9lbmRpYW5xAohYCgAAAHR5cGVfc2l6ZXNxA31xBChYBQAAAHNob3J0cQVLAlgDAAAAaW50cQZLBFgEAAAAbG9uZ3EHSwR1dS6AAihYBwAAAHN0b3JhZ2VxAGN0b3JjaApGbG9hdFN0b3JhZ2UKcQFYDgAAADk0Nzc2MzQzMTA3NjQ4cQJYAwAAAGNwdXEDSwhOdHEEUS6AAl1xAFgOAAAAOTQ3NzYzNDMxMDc2NDhxAWEuCAAAAAAAAACmgJc/aQKLvrAPAL91qWg/tRtCPx3vib66Wii/tUWJP5SFlFKUSwBLCIWUSwGFlIloAilSlHSUUpSMCF93ZWlnaHRzlGgHKGgKQhsBAACAAooKbPycRvkgaqhQGS6AAk3pAy6AAn1xAChYEAAAAHByb3RvY29sX3ZlcnNpb25xAU3pA1gNAAAAbGl0dGxlX2VuZGlhbnECiFgKAAAAdHlwZV9zaXplc3EDfXEEKFgFAAAAc2hvcnRxBUsCWAMAAABpbnRxBksEWAQAAABsb25ncQdLBHV1LoACKFgHAAAAc3RvcmFnZXEAY3RvcmNoCkZsb2F0U3RvcmFnZQpxAVgOAAAAOTQ3NzYzNDMxMDc2NDhxAlgDAAAAY3B1cQNLCE50cQRRLoACXXEAWA4AAAA5NDc3NjM0MzEwNzY0OHEBYS4IAAAAAAAAAKaAlz9pAou+sA8Av3WpaD+1G0I/He+JvrpaKL+1RYk/lIWUUpRLAEsIhZRLAYWUiWgCKVKUdJRSlHV9lIwJX21ldGFkYXRhlGgCKVKUjACUfZSMB3ZlcnNpb26USwFzc3NiLg==\", \"train_history\": {\"train\": [{\"epoch\": 0, \"loss\": 1.192161750793457, \"forward_time\": 0.008829903602600098, \"backward_time\": 0.15732910633087158, \"epoch_time\": 3.3365063667297363}, {\"epoch\": 1, \"loss\": 0.7761648178100586, \"forward_time\": 0.004354143142700195, \"backward_time\": 0.14646663665771484, \"epoch_time\": 3.029676914215088}, {\"epoch\": 2, \"loss\": 0.7771394729614258, \"forward_time\": 0.004325389862060547, \"backward_time\": 0.14366017580032348, \"epoch_time\": 2.972076654434204}, {\"epoch\": 3, \"loss\": 0.803067970275879, \"forward_time\": 0.004159808158874512, \"backward_time\": 0.14785971641540527, \"epoch_time\": 3.0526950359344482}, {\"epoch\": 4, \"loss\": 0.8006114959716797, \"forward_time\": 0.0044343829154968265, \"backward_time\": 0.14634374380111695, \"epoch_time\": 3.0279295444488525}], \"validation\": []}, \"execution_time\": 15.419778823852539}\n",
    "\n",
    "\n",
    "torch_runtime_client._model.load_state_dict(str_to_obj(result_[\"model_state_dict\"]))\n",
    "\n",
    "fit_result = TorchRuntimeResult()\n",
    "fit_result.job_id = 12345\n",
    "fit_result.train_history = result_[\"train_history\"][\"train\"]\n",
    "fit_result.execution_time = result_[\"execution_time\"]\n",
    "fit_result.model_state_dict = str_to_obj(result_[\"model_state_dict\"])"
   ]
  },
  {
   "cell_type": "markdown",
   "metadata": {},
   "source": [
    "---"
   ]
  },
  {
   "cell_type": "code",
   "execution_count": 51,
   "metadata": {},
   "outputs": [
    {
     "name": "stdout",
     "output_type": "stream",
     "text": [
      "id:  12345\n",
      "execution time:  15.419778823852539\n",
      "train history:  [{'epoch': 0, 'loss': 1.192161750793457, 'forward_time': 0.008829903602600098, 'backward_time': 0.15732910633087158, 'epoch_time': 3.3365063667297363}, {'epoch': 1, 'loss': 0.7761648178100586, 'forward_time': 0.004354143142700195, 'backward_time': 0.14646663665771484, 'epoch_time': 3.029676914215088}, {'epoch': 2, 'loss': 0.7771394729614258, 'forward_time': 0.004325389862060547, 'backward_time': 0.14366017580032348, 'epoch_time': 2.972076654434204}, {'epoch': 3, 'loss': 0.803067970275879, 'forward_time': 0.004159808158874512, 'backward_time': 0.14785971641540527, 'epoch_time': 3.0526950359344482}, {'epoch': 4, 'loss': 0.8006114959716797, 'forward_time': 0.0044343829154968265, 'backward_time': 0.14634374380111695, 'epoch_time': 3.0279295444488525}]\n",
      "validation history:  None\n"
     ]
    }
   ],
   "source": [
    "print('id: ', fit_result.job_id)\n",
    "print('execution time: ', fit_result.execution_time)\n",
    "print('train history: ', fit_result.train_history)\n",
    "print('validation history: ', fit_result.val_history)"
   ]
  },
  {
   "cell_type": "markdown",
   "metadata": {},
   "source": [
    "### `predict()` to perform prediction"
   ]
  },
  {
   "cell_type": "code",
   "execution_count": 52,
   "metadata": {},
   "outputs": [],
   "source": [
    "# In this example, we use the same data loader for the prediction as well\n",
    "predict_result = torch_runtime_client.predict(data_loader = train_loader)"
   ]
  },
  {
   "cell_type": "markdown",
   "metadata": {},
   "source": [
    "---"
   ]
  },
  {
   "cell_type": "code",
   "execution_count": 53,
   "metadata": {},
   "outputs": [
    {
     "name": "stdout",
     "output_type": "stream",
     "text": [
      "/usr/local/lib/python3.8/site-packages/qiskit/opflow/primitive_ops/pauli_sum_op.py:316: DeprecationWarning: The SparsePauliOp.table method is deprecated as of Qiskit Terra 0.19.0 and will be removed no sooner than 3 months after the releasedate. Use SparsePauliOp.paulis method instead.\n",
      "  corrected_x_bits = self.primitive.table.X[::, ::-1]\n",
      "{\"prediction\": [[[-0.001953125]], [[0.150390625]], [[0.0703125]], [[-0.103515625]], [[0.615234375]], [[0.232421875]], [[-0.275390625]], [[-0.53515625]], [[0.23828125]], [[-0.30859375]], [[0.31640625]], [[-0.2109375]], [[-0.412109375]], [[0.4140625]], [[0.26171875]], [[0.0859375]], [[-0.3828125]], [[-0.240234375]], [[-0.033203125]], [[0.83203125]]], \"execution_time\": 0.1928863525390625}\n"
     ]
    }
   ],
   "source": [
    "!docker cp ../src/torch_infer.py da1e5b452975:/runtime/program.py\n",
    "!docker cp ./params.json da1e5b452975:/runtime/params.json\n",
    "!docker exec da1e5b452975 /runtime/program_starter.py\n",
    "\n"
   ]
  },
  {
   "cell_type": "code",
   "execution_count": 54,
   "metadata": {},
   "outputs": [],
   "source": [
    "result_ = {\"prediction\": [[[0.03125]], [[0.083984375]], [[0.052734375]], [[-0.16015625]], [[0.6484375]], [[0.189453125]], [[-0.306640625]], [[-0.50390625]], [[0.228515625]], [[-0.3046875]], [[0.291015625]], [[-0.23828125]], [[-0.431640625]], [[0.40625]], [[0.224609375]], [[0.0703125]], [[-0.34375]], [[-0.27734375]], [[-0.001953125]], [[0.84765625]]], \"execution_time\": 0.20331740379333496}\n",
    "\n",
    "predict_result = TorchRuntimeResult()\n",
    "predict_result.job_id = 123\n",
    "predict_result.prediction = Tensor(result_[\"prediction\"])\n",
    "predict_result.execution_time = result_[\"execution_time\"]"
   ]
  },
  {
   "cell_type": "markdown",
   "metadata": {},
   "source": [
    "---"
   ]
  },
  {
   "cell_type": "code",
   "execution_count": 55,
   "metadata": {},
   "outputs": [
    {
     "name": "stdout",
     "output_type": "stream",
     "text": [
      "id:  123\n",
      "execution time:  0.20331740379333496\n"
     ]
    }
   ],
   "source": [
    "print('id: ', predict_result.job_id)\n",
    "print('execution time: ', predict_result.execution_time)"
   ]
  },
  {
   "cell_type": "code",
   "execution_count": 56,
   "metadata": {},
   "outputs": [
    {
     "data": {
      "image/png": "[encoded data removed]",
      "text/plain": [
       "<Figure size 432x288 with 1 Axes>"
      ]
     },
     "metadata": {
      "needs_background": "light"
     },
     "output_type": "display_data"
    }
   ],
   "source": [
    "# Plot results\n",
    "# red == wrongly classified\n",
    "\n",
    "y_predict = []\n",
    "for out in predict_result.prediction:\n",
    "    y_predict += [np.sign(out.item())]\n",
    "y_predict = np.array(y_predict)\n",
    "y_check = [i[0] for i in y]\n",
    "\n",
    "for x, y_target, y_p in zip(X, y, y_predict):\n",
    "    if y_target == 1:\n",
    "        plt.plot(x[0], x[1], 'bo')\n",
    "    else:\n",
    "        plt.plot(x[0], x[1], 'go')\n",
    "    if y_target != y_p:\n",
    "        plt.scatter(x[0], x[1], s=200, facecolors='none', edgecolors='r', linewidths=2)\n",
    "plt.plot([-1, 1], [1, -1], '--', color='black')\n",
    "plt.show()\n"
   ]
  },
  {
   "cell_type": "markdown",
   "metadata": {},
   "source": [
    "The red circles indicate wrongly classified data points."
   ]
  },
  {
   "cell_type": "markdown",
   "metadata": {},
   "source": [
    "### `score()` to calculate a score"
   ]
  },
  {
   "cell_type": "markdown",
   "metadata": {},
   "source": [
    "In the example, we use the following custom scoring function to calculate a score. The scoring function returns 1, if the trained model successfully classify the input. Otherwise, it returns 0. An overall average is calculated in `score()` in the end."
   ]
  },
  {
   "cell_type": "code",
   "execution_count": 57,
   "metadata": {},
   "outputs": [],
   "source": [
    "def score_func(out, target):\n",
    "    from numpy import sign\n",
    "    score = 0\n",
    "    if sign(out.item()) == target.item():\n",
    "        score = 1\n",
    "    return score\n"
   ]
  },
  {
   "cell_type": "code",
   "execution_count": 58,
   "metadata": {},
   "outputs": [],
   "source": [
    "score_result = torch_runtime_client.score(data_loader=train_loader, score_func=score_func)"
   ]
  },
  {
   "cell_type": "markdown",
   "metadata": {},
   "source": [
    "----"
   ]
  },
  {
   "cell_type": "code",
   "execution_count": 59,
   "metadata": {},
   "outputs": [
    {
     "name": "stdout",
     "output_type": "stream",
     "text": [
      "/usr/local/lib/python3.8/site-packages/qiskit/opflow/primitive_ops/pauli_sum_op.py:316: DeprecationWarning: The SparsePauliOp.table method is deprecated as of Qiskit Terra 0.19.0 and will be removed no sooner than 3 months after the releasedate. Use SparsePauliOp.paulis method instead.\n",
      "  corrected_x_bits = self.primitive.table.X[::, ::-1]\n",
      "{\"score\": 0.85, \"prediction\": [[[0.021484375]], [[0.080078125]], [[0.021484375]], [[-0.146484375]], [[0.681640625]], [[0.228515625]], [[-0.298828125]], [[-0.498046875]], [[0.294921875]], [[-0.353515625]], [[0.333984375]], [[-0.2734375]], [[-0.412109375]], [[0.419921875]], [[0.267578125]], [[0.1015625]], [[-0.416015625]], [[-0.294921875]], [[-0.0234375]], [[0.85546875]]], \"execution_time\": 0.18293190002441406}\n"
     ]
    }
   ],
   "source": [
    "!docker cp ../src/torch_infer.py da1e5b452975:/runtime/program.py\n",
    "!docker cp ./params.json da1e5b452975:/runtime/params.json\n",
    "!docker exec da1e5b452975 /runtime/program_starter.py"
   ]
  },
  {
   "cell_type": "code",
   "execution_count": 60,
   "metadata": {},
   "outputs": [],
   "source": [
    "result_ = {\"score\": 0.85, \"prediction\": [[[0.0078125]], [[0.109375]], [[0.056640625]], [[-0.126953125]], [[0.662109375]], [[0.19140625]], [[-0.2578125]], [[-0.5390625]], [[0.294921875]], [[-0.33984375]], [[0.31640625]], [[-0.234375]], [[-0.369140625]], [[0.408203125]], [[0.201171875]], [[0.013671875]], [[-0.365234375]], [[-0.265625]], [[-0.029296875]], [[0.8671875]]], \"execution_time\": 0.2116398811340332}\n",
    "\n",
    "\n",
    "score_result = TorchRuntimeResult()\n",
    "score_result.job_id = 123\n",
    "score_result.prediction = Tensor(result_[\"prediction\"])\n",
    "score_result.score = result_[\"score\"]\n",
    "score_result.execution_time = result_[\"execution_time\"]"
   ]
  },
  {
   "cell_type": "markdown",
   "metadata": {},
   "source": [
    "----"
   ]
  },
  {
   "cell_type": "code",
   "execution_count": 61,
   "metadata": {},
   "outputs": [
    {
     "name": "stdout",
     "output_type": "stream",
     "text": [
      "id:  123\n",
      "execution time:  0.2116398811340332\n",
      "score:  0.85\n"
     ]
    }
   ],
   "source": [
    "print('id: ', score_result.job_id)\n",
    "print('execution time: ', score_result.execution_time)\n",
    "print('score: ', score_result.score)"
   ]
  },
  {
   "cell_type": "markdown",
   "metadata": {},
   "source": [
    "## 3. How to use hooks in training\n",
    "Qiskit Machine Learning offers a base hook class, `HookBase`. It is a base class for a hook that is a set of callback functions used in the training process. Users can implement their own hook classes from this base class to handle complicated callback processes. This structure provides high flexibility in the callback processes.\n",
    "Each hook can implement 6 methods, and each method is called before/after the corresponding processes during training. The way they are called is demonstrated\n",
    "in the following snippet:\n",
    "```\n",
    "    hook.before_train()\n",
    "    for epoch in range(epochs):\n",
    "        hook.before_epoch()\n",
    "        for batch in train_loader:\n",
    "            hook.before_step()\n",
    "            train_step()\n",
    "            hook.after_step()\n",
    "            global_step += 1\n",
    "        hook.after_epoch()\n",
    "        epoch += 1\n",
    "    hook.after_train()\n",
    "```\n",
    "\n",
    "In the hook methods, users can access `TorchTrainer` via `self.trainer` to access more properties about the context (e.g., model, current iteration, or config). The following snippet describes the accessible variables that are useful for a hook.\n",
    "\n",
    "- TorchTrainer\n",
    "  - model: A model to be trained.\n",
    "  - optimizer: An optimizer used for the training.\n",
    "  - loss_func: A loss function for the training.\n",
    "  - train_loader: A PyTorch data loader object containing a training dataset.\n",
    "  - val_loader: A PyTorch data loader object containing a validation dataset.\n",
    "  - max_epoch: The maximum number of training epochs.\n",
    "  - log_period: A logging period for a train history and a validation history. By default,\n",
    "                there will be logs every epoch (`log_period`=1).\n",
    "  - start_epoch: An initial epoch for warm-start training. By default, 0.\n",
    "  - epoch: The current number of epochs.\n",
    "  - global_step: The current number of steps.\n",
    "  - train_logger: A logger for a training history. Use `train_logger.metrics` to access a list of logs. A log for each epoch is stored as a dictionary similar to `TorchRuntimeResult.train_history`\n",
    "  - val_logger: A logger for a validation history. Logs are stored in the same way as train_logger.\n",
    "\n",
    " Users can pass a single hook instance or a list of hook instances to `hooks` argument.\n"
   ]
  },
  {
   "cell_type": "markdown",
   "metadata": {},
   "source": [
    "The following example is a hook for early stopping. If the current loss is smaller than the threshold after an epoch, the training will be terminated. "
   ]
  },
  {
   "cell_type": "code",
   "execution_count": 76,
   "metadata": {},
   "outputs": [],
   "source": [
    "from qiskit_machine_learning.runtime import HookBase\n",
    "\n",
    "class StopHook(HookBase):\n",
    "    \"\"\"\n",
    "    For early stopping\n",
    "    \"\"\"\n",
    "\n",
    "    def __init__(self, loss_threshold):\n",
    "        self._loss_threshold = loss_threshold\n",
    "\n",
    "    def after_epoch(self):\n",
    "        # This function is called after each epoch\n",
    "        current_loss = self.trainer.train_logger.metrics[-1][\"loss\"]\n",
    "        print('current loss: ', current_loss)\n",
    "        # If current loss is smaller than the threshold,\n",
    "        # set the current number of the epoch to the maximum number of the epochs to stop the training\n",
    "        if current_loss < self._loss_threshold:\n",
    "            self.trainer.epoch = self.trainer.max_epochs\n",
    "\n",
    "stop_hook = StopHook(loss_threshold=0.05) \n"
   ]
  },
  {
   "cell_type": "code",
   "execution_count": 77,
   "metadata": {},
   "outputs": [],
   "source": [
    "torch_runtime_client = TorchRuntimeClient(\n",
    "                                        provider=provider,\n",
    "                                        model=model1,\n",
    "                                        optimizer=optimizer1,\n",
    "                                        loss_func=loss_func1,\n",
    "                                        epochs=5,\n",
    "                                        backend=backend,\n",
    "                                        )"
   ]
  },
  {
   "cell_type": "code",
   "execution_count": 79,
   "metadata": {},
   "outputs": [],
   "source": [
    "fit_result = torch_runtime_client.fit(train_loader=train_loader1, hooks=stop_hook)"
   ]
  },
  {
   "cell_type": "markdown",
   "metadata": {},
   "source": [
    "----"
   ]
  },
  {
   "cell_type": "code",
   "execution_count": 80,
   "metadata": {},
   "outputs": [
    {
     "name": "stdout",
     "output_type": "stream",
     "text": [
      "/usr/local/lib/python3.8/site-packages/qiskit/opflow/primitive_ops/pauli_sum_op.py:316: DeprecationWarning: The SparsePauliOp.table method is deprecated as of Qiskit Terra 0.19.0 and will be removed no sooner than 3 months after the releasedate. Use SparsePauliOp.paulis method instead.\n",
      "  corrected_x_bits = self.primitive.table.X[::, ::-1]\n",
      "{\"epoch\": 0, \"training loss\": 0.6607211172115057, \"validation loss\": null, \"average forward pass time\": 0.009653174877166748, \"average backward pass time\": 0.10987980365753174, \"epoch_time\": 2.4111807346343994}\n",
      "current loss:  0.6607211172115057\n",
      "{\"epoch\": 1, \"training loss\": 0.032746360854980595, \"validation loss\": null, \"average forward pass time\": 0.004878580570220947, \"average backward pass time\": 0.10419203042984009, \"epoch_time\": 2.200406551361084}\n",
      "current loss:  0.032746360854980595\n",
      "{\"model_state_dict\": \"gASV5QIAAAAAAACMC2NvbGxlY3Rpb25zlIwLT3JkZXJlZERpY3SUk5QpUpQojAZ3ZWlnaHSUjAx0b3JjaC5fdXRpbHOUjBJfcmVidWlsZF90ZW5zb3JfdjKUk5QojA10b3JjaC5zdG9yYWdllIwQX2xvYWRfZnJvbV9ieXRlc5STlEP/gAKKCmz8nEb5IGqoUBkugAJN6QMugAJ9cQAoWBAAAABwcm90b2NvbF92ZXJzaW9ucQFN6QNYDQAAAGxpdHRsZV9lbmRpYW5xAohYCgAAAHR5cGVfc2l6ZXNxA31xBChYBQAAAHNob3J0cQVLAlgDAAAAaW50cQZLBFgEAAAAbG9uZ3EHSwR1dS6AAihYBwAAAHN0b3JhZ2VxAGN0b3JjaApGbG9hdFN0b3JhZ2UKcQFYDgAAADk0ODQ4MDY5Mjk2NTQ0cQJYAwAAAGNwdXEDSwFOdHEEUS6AAl1xAFgOAAAAOTQ4NDgwNjkyOTY1NDRxAWEuAQAAAAAAAACWU+S/lIWUUpRLAEsBhZRLAYWUiWgCKVKUdJRSlIwIX3dlaWdodHOUaAcoaApD/4ACigps/JxG+SBqqFAZLoACTekDLoACfXEAKFgQAAAAcHJvdG9jb2xfdmVyc2lvbnEBTekDWA0AAABsaXR0bGVfZW5kaWFucQKIWAoAAAB0eXBlX3NpemVzcQN9cQQoWAUAAABzaG9ydHEFSwJYAwAAAGludHEGSwRYBAAAAGxvbmdxB0sEdXUugAIoWAcAAABzdG9yYWdlcQBjdG9yY2gKRmxvYXRTdG9yYWdlCnEBWA4AAAA5NDg0ODA2OTI5NjU0NHECWAMAAABjcHVxA0sBTnRxBFEugAJdcQBYDgAAADk0ODQ4MDY5Mjk2NTQ0cQFhLgEAAAAAAAAAllPkv5SFlFKUSwBLAYWUSwGFlIloAilSlHSUUpR1fZSMCV9tZXRhZGF0YZRoAilSlIwAlH2UjAd2ZXJzaW9ulEsBc3NzYi4=\", \"train_history\": {\"train\": [{\"epoch\": 0, \"loss\": 0.6607211172115057, \"forward_time\": 0.009653174877166748, \"backward_time\": 0.10987980365753174, \"epoch_time\": 2.4111807346343994}, {\"epoch\": 1, \"loss\": 0.032746360854980595, \"forward_time\": 0.004878580570220947, \"backward_time\": 0.10419203042984009, \"epoch_time\": 2.200406551361084}], \"validation\": []}, \"execution_time\": 4.612025260925293}\n"
     ]
    }
   ],
   "source": [
    "!docker cp ../src/torch_train.py da1e5b452975:/runtime/program.py\n",
    "!docker cp ./params.json da1e5b452975:/runtime/params.json\n",
    "!docker exec da1e5b452975 /runtime/program_starter.py"
   ]
  },
  {
   "cell_type": "code",
   "execution_count": 81,
   "metadata": {},
   "outputs": [],
   "source": [
    "result_ = {\"model_state_dict\": \"gASV5QIAAAAAAACMC2NvbGxlY3Rpb25zlIwLT3JkZXJlZERpY3SUk5QpUpQojAZ3ZWlnaHSUjAx0b3JjaC5fdXRpbHOUjBJfcmVidWlsZF90ZW5zb3JfdjKUk5QojA10b3JjaC5zdG9yYWdllIwQX2xvYWRfZnJvbV9ieXRlc5STlEP/gAKKCmz8nEb5IGqoUBkugAJN6QMugAJ9cQAoWBAAAABwcm90b2NvbF92ZXJzaW9ucQFN6QNYDQAAAGxpdHRsZV9lbmRpYW5xAohYCgAAAHR5cGVfc2l6ZXNxA31xBChYBQAAAHNob3J0cQVLAlgDAAAAaW50cQZLBFgEAAAAbG9uZ3EHSwR1dS6AAihYBwAAAHN0b3JhZ2VxAGN0b3JjaApGbG9hdFN0b3JhZ2UKcQFYDgAAADk0ODUyMzIzMjcxMjgwcQJYAwAAAGNwdXEDSwFOdHEEUS6AAl1xAFgOAAAAOTQ4NTIzMjMyNzEyODBxAWEuAQAAAAAAAAA6weS/lIWUUpRLAEsBhZRLAYWUiWgCKVKUdJRSlIwIX3dlaWdodHOUaAcoaApD/4ACigps/JxG+SBqqFAZLoACTekDLoACfXEAKFgQAAAAcHJvdG9jb2xfdmVyc2lvbnEBTekDWA0AAABsaXR0bGVfZW5kaWFucQKIWAoAAAB0eXBlX3NpemVzcQN9cQQoWAUAAABzaG9ydHEFSwJYAwAAAGludHEGSwRYBAAAAGxvbmdxB0sEdXUugAIoWAcAAABzdG9yYWdlcQBjdG9yY2gKRmxvYXRTdG9yYWdlCnEBWA4AAAA5NDg1MjMyMzI3MTI4MHECWAMAAABjcHVxA0sBTnRxBFEugAJdcQBYDgAAADk0ODUyMzIzMjcxMjgwcQFhLgEAAAAAAAAAOsHkv5SFlFKUSwBLAYWUSwGFlIloAilSlHSUUpR1fZSMCV9tZXRhZGF0YZRoAilSlIwAlH2UjAd2ZXJzaW9ulEsBc3NzYi4=\", \"train_history\": {\"train\": [{\"epoch\": 0, \"loss\": 0.6218201427720487, \"forward_time\": 0.008634221553802491, \"backward_time\": 0.09483517408370971, \"epoch_time\": 2.088063955307007}, {\"epoch\": 1, \"loss\": 0.03179714586731279, \"forward_time\": 0.004410469532012939, \"backward_time\": 0.09125356674194336, \"epoch_time\": 1.9302630424499512}], \"validation\": []}, \"execution_time\": 4.018845796585083}\n",
    "\n",
    "torch_runtime_client._model.load_state_dict(str_to_obj(result_[\"model_state_dict\"]))\n",
    "\n",
    "fit_result = TorchRuntimeResult()\n",
    "fit_result.job_id = 12345\n",
    "fit_result.train_history = result_[\"train_history\"][\"train\"]\n",
    "fit_result.execution_time = result_[\"execution_time\"]\n",
    "fit_result.model_state_dict = str_to_obj(result_[\"model_state_dict\"])\n"
   ]
  },
  {
   "cell_type": "markdown",
   "metadata": {},
   "source": [
    "----"
   ]
  },
  {
   "cell_type": "code",
   "execution_count": 82,
   "metadata": {},
   "outputs": [
    {
     "name": "stdout",
     "output_type": "stream",
     "text": [
      "id:  12345\n",
      "execution time:  4.018845796585083\n",
      "train history:  [{'epoch': 0, 'loss': 0.6218201427720487, 'forward_time': 0.008634221553802491, 'backward_time': 0.09483517408370971, 'epoch_time': 2.088063955307007}, {'epoch': 1, 'loss': 0.03179714586731279, 'forward_time': 0.004410469532012939, 'backward_time': 0.09125356674194336, 'epoch_time': 1.9302630424499512}]\n",
      "model_state_dict:  OrderedDict([('weight', tensor([-1.7871])), ('_weights', tensor([-1.7871]))])\n"
     ]
    }
   ],
   "source": [
    "print('id: ', fit_result.job_id)\n",
    "print('execution time: ', fit_result.execution_time)\n",
    "print('train history: ', fit_result.train_history)\n",
    "print('model_state_dict: ', torch_runtime_client.model.state_dict())\n"
   ]
  },
  {
   "cell_type": "markdown",
   "metadata": {},
   "source": [
    "As we can see, the training finished before reaching to the 5th epoch. "
   ]
  }
 ],
 "metadata": {
  "interpreter": {
   "hash": "577834d0302428d6c427bd5655baa7dae859c2df5aa4aa3ef1d5439e5cfade6d"
  },
  "kernelspec": {
   "display_name": "Python 3.8.6 64-bit ('torch-new': venv)",
   "name": "python3"
  },
  "language_info": {
   "codemirror_mode": {
    "name": "ipython",
    "version": 3
   },
   "file_extension": ".py",
   "mimetype": "text/x-python",
   "name": "python",
   "nbconvert_exporter": "python",
   "pygments_lexer": "ipython3",
   "version": "3.8.6"
  },
  "orig_nbformat": 4
 },
 "nbformat": 4,
 "nbformat_minor": 2
}
